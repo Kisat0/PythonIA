{
 "cells": [
  {
   "cell_type": "code",
   "execution_count": 1,
   "metadata": {},
   "outputs": [],
   "source": [
    "#? Description: This script loads the original dataset and the geocoded dataset, merges them, and cleans the resulting DataFrame.\n",
    "#! The script address_converter.py must be run before this script to get the geocoded locations from the DOHMH_New_York_City_Restaurant_Inspection_Results.csv file.\n",
    "\n",
    "import pandas as pd\n",
    "\n",
    "# Load the original dataset\n",
    "original_df = pd.read_csv('data/NYC-Restaurant-Inspections/DOHMH_New_York_City_Restaurant_Inspection_Results.csv')\n",
    "\n",
    "# Load the geocoded dataset\n",
    "geocoded_df = pd.read_csv('data/NYC-Restaurant-Inspections/Geocoded_Locations.csv')\n",
    "\n",
    "# Merge the two DataFrames on location columns\n",
    "merged_df = original_df.merge(\n",
    "    geocoded_df, \n",
    "    on=['BORO', 'STREET', 'BUILDING', 'ZIPCODE'], \n",
    "    how='left'  # Use 'left' to retain all rows from the original dataset\n",
    ")"
   ]
  },
  {
   "cell_type": "code",
   "execution_count": 2,
   "metadata": {},
   "outputs": [],
   "source": [
    "# Drop rows with missing latitude and longitude values\n",
    "cleaned_df = merged_df.dropna(subset=['LATITUDE', 'LONGITUDE'])\n",
    "\n",
    "# Okay now we select the columns we want to keep \n",
    "\n",
    "df_selected = cleaned_df[['LONGITUDE', 'LATITUDE', 'INSPECTION DATE', 'ACTION', 'CRITICAL FLAG', 'SCORE']]"
   ]
  },
  {
   "cell_type": "code",
   "execution_count": 4,
   "metadata": {},
   "outputs": [
    {
     "name": "stdout",
     "output_type": "stream",
     "text": [
      "0         1970\n",
      "1         1970\n",
      "2         1970\n",
      "3         1970\n",
      "4         1970\n",
      "          ... \n",
      "400448    1970\n",
      "400593    1970\n",
      "400635    1970\n",
      "400666    1970\n",
      "400667    1970\n",
      "Name: INSPECTION DATE, Length: 7369, dtype: int32\n"
     ]
    },
    {
     "name": "stderr",
     "output_type": "stream",
     "text": [
      "/var/folders/st/gpcsktfj703fllh45lyrfl9r0000gn/T/ipykernel_85695/219139310.py:2: SettingWithCopyWarning: \n",
      "A value is trying to be set on a copy of a slice from a DataFrame.\n",
      "Try using .loc[row_indexer,col_indexer] = value instead\n",
      "\n",
      "See the caveats in the documentation: https://pandas.pydata.org/pandas-docs/stable/user_guide/indexing.html#returning-a-view-versus-a-copy\n",
      "  df_selected['INSPECTION DATE'] = pd.to_datetime(df_selected['INSPECTION DATE'])\n",
      "/var/folders/st/gpcsktfj703fllh45lyrfl9r0000gn/T/ipykernel_85695/219139310.py:3: SettingWithCopyWarning: \n",
      "A value is trying to be set on a copy of a slice from a DataFrame.\n",
      "Try using .loc[row_indexer,col_indexer] = value instead\n",
      "\n",
      "See the caveats in the documentation: https://pandas.pydata.org/pandas-docs/stable/user_guide/indexing.html#returning-a-view-versus-a-copy\n",
      "  df_selected['INSPECTION DATE'] = df_selected['INSPECTION DATE'].dt.year\n",
      "/var/folders/st/gpcsktfj703fllh45lyrfl9r0000gn/T/ipykernel_85695/219139310.py:18: SettingWithCopyWarning: \n",
      "A value is trying to be set on a copy of a slice from a DataFrame.\n",
      "Try using .loc[row_indexer,col_indexer] = value instead\n",
      "\n",
      "See the caveats in the documentation: https://pandas.pydata.org/pandas-docs/stable/user_guide/indexing.html#returning-a-view-versus-a-copy\n",
      "  df_selected['ACTION_CODE'] = df_selected['ACTION'].map(action_mapping)\n",
      "/var/folders/st/gpcsktfj703fllh45lyrfl9r0000gn/T/ipykernel_85695/219139310.py:28: SettingWithCopyWarning: \n",
      "A value is trying to be set on a copy of a slice from a DataFrame.\n",
      "Try using .loc[row_indexer,col_indexer] = value instead\n",
      "\n",
      "See the caveats in the documentation: https://pandas.pydata.org/pandas-docs/stable/user_guide/indexing.html#returning-a-view-versus-a-copy\n",
      "  df_selected['CRITICAL_FLAG_CODE'] = df_selected['CRITICAL FLAG'].map(critical_flag_mapping)\n"
     ]
    }
   ],
   "source": [
    "\n",
    "\n",
    "# in inspection date just keep the year\n",
    "df_selected['INSPECTION DATE'] = pd.to_datetime(df_selected['INSPECTION DATE'])\n",
    "df_selected['INSPECTION DATE'] = df_selected['INSPECTION DATE'].dt.year\n",
    "\n",
    "print(df_selected['INSPECTION DATE'])"
   ]
  },
  {
   "cell_type": "code",
   "execution_count": null,
   "metadata": {},
   "outputs": [],
   "source": [
    "# Créer un dictionnaire de mappage\n",
    "action_mapping = {\n",
    "    'Violations were cited in the following area(s).': 1,\n",
    "    'No violations were recorded at the time of this inspection.': 0,\n",
    "    'Establishment re-opened by DOHMH': 2,\n",
    "    'Establishment re-closed by DOHMH': 3,\n",
    "    'Establishment Closed by DOHMH. Violations were cited in the following area(s) and those requiring immediate action were addressed.': 4,\n",
    "    'Missing': -1\n",
    "}\n",
    "\n",
    "# Appliquer le mappage à la colonne Action\n",
    "df_selected['ACTION_CODE'] = df_selected['ACTION'].map(action_mapping)"
   ]
  },
  {
   "cell_type": "code",
   "execution_count": null,
   "metadata": {},
   "outputs": [],
   "source": [
    "# Créer un dictionnaire de mappage\n",
    "critical_flag_mapping = {\n",
    "    'Critical': 1,\n",
    "    'Not Critical': 0,\n",
    "    'Not Applicable': -1\n",
    "}\n",
    "\n",
    "# Appliquer le mappage à la colonne Critical Flag\n",
    "df_selected['CRITICAL_FLAG_CODE'] = df_selected['CRITICAL FLAG'].map(critical_flag_mapping)"
   ]
  }
 ],
 "metadata": {
  "kernelspec": {
   "display_name": ".venv",
   "language": "python",
   "name": "python3"
  },
  "language_info": {
   "codemirror_mode": {
    "name": "ipython",
    "version": 3
   },
   "file_extension": ".py",
   "mimetype": "text/x-python",
   "name": "python",
   "nbconvert_exporter": "python",
   "pygments_lexer": "ipython3",
   "version": "3.13.0"
  }
 },
 "nbformat": 4,
 "nbformat_minor": 2
}
