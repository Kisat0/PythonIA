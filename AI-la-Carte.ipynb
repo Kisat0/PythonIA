{
 "cells": [
  {
   "cell_type": "code",
   "execution_count": null,
   "metadata": {},
   "outputs": [],
   "source": [
    "#? Description: This script loads the original dataset and the geocoded dataset, merges them, and cleans the resulting DataFrame.\n",
    "#! The script address_converter.py must be run before this script to get the geocoded locations from the DOHMH_New_York_City_Restaurant_Inspection_Results.csv file.\n",
    "\n",
    "import pandas as pd\n",
    "\n",
    "# Load the original dataset\n",
    "original_df = pd.read_csv('data/NYC-Restaurant-Inspections/DOHMH_New_York_City_Restaurant_Inspection_Results.csv')\n",
    "\n",
    "# Load the geocoded dataset\n",
    "geocoded_df = pd.read_csv('data/NYC-Restaurant-Inspections/Geocoded_Locations.csv')\n",
    "\n",
    "# Merge the two DataFrames on location columns\n",
    "merged_df = original_df.merge(\n",
    "    geocoded_df, \n",
    "    on=['BORO', 'STREET', 'BUILDING', 'ZIPCODE'], \n",
    "    how='left'  # Use 'left' to retain all rows from the original dataset\n",
    ")\n",
    "\n",
    "# Drop rows with missing latitude and longitude values\n",
    "cleaned_df = merged_df.dropna(subset=['LATITUDE', 'LONGITUDE'])\n",
    "\n",
    "# Okay now we select the columns we want to keep \n",
    "\n",
    "df_selected = cleaned_df[['']]"
   ]
  }
 ],
 "metadata": {
  "language_info": {
   "name": "python"
  }
 },
 "nbformat": 4,
 "nbformat_minor": 2
}
