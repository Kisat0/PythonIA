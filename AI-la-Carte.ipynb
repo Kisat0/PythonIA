{
 "cells": [
  {
   "cell_type": "code",
   "execution_count": 14,
   "metadata": {},
   "outputs": [],
   "source": [
    "#? Description: This script loads the original dataset and the geocoded dataset, merges them, and cleans the resulting DataFrame.\n",
    "#! The script address_converter.py must be run before this script to get the geocoded locations from the DOHMH_New_York_City_Restaurant_Inspection_Results.csv file.\n",
    "\n",
    "import pandas as pd\n",
    "\n",
    "# Load the original dataset\n",
    "original_df = pd.read_csv('data/NYC-Restaurant-Inspections/DOHMH_New_York_City_Restaurant_Inspection_Results.csv')\n",
    "\n",
    "# Load the geocoded dataset\n",
    "geocoded_df = pd.read_csv('data/NYC-Restaurant-Inspections/Geocoded_Locations.csv')\n",
    "\n",
    "# Merge the two DataFrames on location columns\n",
    "merged_df = original_df.merge(\n",
    "    geocoded_df, \n",
    "    on=['BORO', 'STREET', 'BUILDING', 'ZIPCODE'], \n",
    "    how='left'  # Use 'left' to retain all rows from the original dataset\n",
    ")"
   ]
  },
  {
   "cell_type": "code",
   "execution_count": 15,
   "metadata": {},
   "outputs": [
    {
     "name": "stdout",
     "output_type": "stream",
     "text": [
      "Original dataset length: 399918\n",
      "Number of rows now: 7369\n"
     ]
    }
   ],
   "source": [
    "\n",
    "# Drop rows with missing latitude and longitude values\n",
    "cleaned_df = merged_df.dropna(subset=['LATITUDE', 'LONGITUDE'])\n",
    "\n",
    "# Okay now we select the columns we want to keep \n",
    "\n",
    "df_selected = cleaned_df[['LONGITUDE', 'LATITUDE', 'INSPECTION DATE', 'ACTION', 'CRITICAL FLAG', 'SCORE']]\n",
    "\n",
    "df_selected.dtypes\n",
    "\n",
    "#See the length of the dataset after cleaning\n",
    "print('Original dataset length:', len(original_df))\n",
    "print('Number of rows now:', len(df_selected))"
   ]
  },
  {
   "cell_type": "code",
   "execution_count": 16,
   "metadata": {},
   "outputs": [
    {
     "name": "stdout",
     "output_type": "stream",
     "text": [
      "0         2015\n",
      "1         2015\n",
      "2         2014\n",
      "3         2014\n",
      "4         2016\n",
      "          ... \n",
      "400448    2017\n",
      "400593    2015\n",
      "400635    2014\n",
      "400666    2016\n",
      "400667    2014\n",
      "Name: INSPECTION DATE, Length: 7369, dtype: int32\n"
     ]
    },
    {
     "name": "stderr",
     "output_type": "stream",
     "text": [
      "/var/folders/st/gpcsktfj703fllh45lyrfl9r0000gn/T/ipykernel_85695/1110340875.py:2: SettingWithCopyWarning: \n",
      "A value is trying to be set on a copy of a slice from a DataFrame.\n",
      "Try using .loc[row_indexer,col_indexer] = value instead\n",
      "\n",
      "See the caveats in the documentation: https://pandas.pydata.org/pandas-docs/stable/user_guide/indexing.html#returning-a-view-versus-a-copy\n",
      "  df_selected['INSPECTION DATE'] = pd.to_datetime(df_selected['INSPECTION DATE'])\n",
      "/var/folders/st/gpcsktfj703fllh45lyrfl9r0000gn/T/ipykernel_85695/1110340875.py:3: SettingWithCopyWarning: \n",
      "A value is trying to be set on a copy of a slice from a DataFrame.\n",
      "Try using .loc[row_indexer,col_indexer] = value instead\n",
      "\n",
      "See the caveats in the documentation: https://pandas.pydata.org/pandas-docs/stable/user_guide/indexing.html#returning-a-view-versus-a-copy\n",
      "  df_selected['INSPECTION DATE'] = df_selected['INSPECTION DATE'].dt.year\n"
     ]
    }
   ],
   "source": [
    "\n",
    "\n",
    "# in inspection date just keep the year\n",
    "df_selected['INSPECTION DATE'] = pd.to_datetime(df_selected['INSPECTION DATE'])\n",
    "df_selected['INSPECTION DATE'] = df_selected['INSPECTION DATE'].dt.year\n",
    "\n",
    "print(df_selected['INSPECTION DATE'])"
   ]
  },
  {
   "cell_type": "code",
   "execution_count": 17,
   "metadata": {},
   "outputs": [
    {
     "name": "stderr",
     "output_type": "stream",
     "text": [
      "/var/folders/st/gpcsktfj703fllh45lyrfl9r0000gn/T/ipykernel_85695/2431596733.py:12: SettingWithCopyWarning: \n",
      "A value is trying to be set on a copy of a slice from a DataFrame.\n",
      "Try using .loc[row_indexer,col_indexer] = value instead\n",
      "\n",
      "See the caveats in the documentation: https://pandas.pydata.org/pandas-docs/stable/user_guide/indexing.html#returning-a-view-versus-a-copy\n",
      "  df_selected['ACTION'] = df_selected['ACTION'].map(action_mapping)\n"
     ]
    }
   ],
   "source": [
    "# Créer un dictionnaire de mappage\n",
    "action_mapping = {\n",
    "    'Violations were cited in the following area(s).': 1,\n",
    "    'No violations were recorded at the time of this inspection.': 0,\n",
    "    'Establishment re-opened by DOHMH': 2,\n",
    "    'Establishment re-closed by DOHMH': 3,\n",
    "    'Establishment Closed by DOHMH. Violations were cited in the following area(s) and those requiring immediate action were addressed.': 4,\n",
    "    'Missing': -1\n",
    "}\n",
    "\n",
    "# Appliquer le mappage à la colonne Action\n",
    "df_selected['ACTION'] = df_selected['ACTION'].map(action_mapping)"
   ]
  },
  {
   "cell_type": "code",
   "execution_count": 18,
   "metadata": {},
   "outputs": [
    {
     "name": "stderr",
     "output_type": "stream",
     "text": [
      "/var/folders/st/gpcsktfj703fllh45lyrfl9r0000gn/T/ipykernel_85695/3048315063.py:9: SettingWithCopyWarning: \n",
      "A value is trying to be set on a copy of a slice from a DataFrame.\n",
      "Try using .loc[row_indexer,col_indexer] = value instead\n",
      "\n",
      "See the caveats in the documentation: https://pandas.pydata.org/pandas-docs/stable/user_guide/indexing.html#returning-a-view-versus-a-copy\n",
      "  df_selected['CRITICAL FLAG'] = df_selected['CRITICAL FLAG'].map(critical_flag_mapping)\n"
     ]
    }
   ],
   "source": [
    "# Créer un dictionnaire de mappage\n",
    "critical_flag_mapping = {\n",
    "    'Critical': 1,\n",
    "    'Not Critical': 0,\n",
    "    'Not Applicable': -1\n",
    "}\n",
    "\n",
    "# Appliquer le mappage à la colonne Critical Flag\n",
    "df_selected['CRITICAL FLAG'] = df_selected['CRITICAL FLAG'].map(critical_flag_mapping)"
   ]
  },
  {
   "cell_type": "code",
   "execution_count": 19,
   "metadata": {},
   "outputs": [
    {
     "name": "stdout",
     "output_type": "stream",
     "text": [
      "LONGITUDE          float64\n",
      "LATITUDE           float64\n",
      "INSPECTION DATE      int32\n",
      "ACTION             float64\n",
      "CRITICAL FLAG        int64\n",
      "SCORE              float64\n",
      "dtype: object\n"
     ]
    }
   ],
   "source": [
    "#See now all the types if they are correct\n",
    "print(df_selected.dtypes)"
   ]
  }
 ],
 "metadata": {
  "kernelspec": {
   "display_name": ".venv",
   "language": "python",
   "name": "python3"
  },
  "language_info": {
   "codemirror_mode": {
    "name": "ipython",
    "version": 3
   },
   "file_extension": ".py",
   "mimetype": "text/x-python",
   "name": "python",
   "nbconvert_exporter": "python",
   "pygments_lexer": "ipython3",
   "version": "3.13.0"
  }
 },
 "nbformat": 4,
 "nbformat_minor": 2
}
